{
 "cells": [
  {
   "cell_type": "code",
   "execution_count": 1,
   "metadata": {},
   "outputs": [],
   "source": [
    "import matplotlib.pyplot as plt\n",
    "import numpy as np\n",
    "%matplotlib inline"
   ]
  },
  {
   "cell_type": "markdown",
   "metadata": {},
   "source": [
    "# Project: Calibrating an Optical Tweezer\n",
    "\n",
    "An [optical tweezer](https://en.wikipedia.org/wiki/Optical_tweezers) is essentially a tightly focused laser-beam, where the intensity gradient in three-dimensions tends to confine dielectric particles of order $100~\\rm{nm}$ to $10~\\mu\\rm{m}$ at the location of highest intensity, i.e. the central spot of the focus. When a dielectric particle is trapped within the optical tweezer, it acts like opto-mechanical system that, for certain conditions, is well-approximated by a mass-spring system. If some external force pushes or pulls on the dielectric particle, it gets displaced from its equilibrium position, which deflects some of the optical tweezer's light and results in an optical restoring force. The restoring force is proportional to the driving force for sufficiently small displacements.\n",
    "\n",
    "<img src=\"figures/optical_trap.png\" width=600>\n",
    "\n",
    "Making use of this property, it is possible to construct a force sensor with sensitivity to very miniscule forces, and perform precision physics experiments. Like all good appratuses\n",
    "\n",
    "### Potential goals for this project\n",
    "\n",
    "We expect you to complete all of the following goals for full credit. If you prefer to replace on of these goals with your own goal, please consult the instructor/TA.\n",
    "\n",
    "1. Come up with a way to evaluate the consistency of all of the data before subdividing into \"Early Time\" and \"Late Time\" measurements. Make sure you take the errors into account, quote a p-value (probability estimate), and explain why your results indicate the data should be subdivided. \n",
    "\n",
    "2. Make a nice plot (or two) that summarizes the difference between \"Early Time\" results and \"Late Time\" results.\n",
    "\n",
    "3. Come up with a way to evaluate the consistency of the data within each subset (\"Early Time\" and \"Late Time\"). Make sure you take the errors into account, quote a p-value (probability estimate), and interpret your result.\n",
    "\n",
    "4. Come up with a way to evaluate the consistency of the two different subsets (\"Early Time\" and \"Late Time\") with each other. Make sure you take the errors into account, quote a p-value (probability estimate), and interpret your result."
   ]
  },
  {
   "cell_type": "markdown",
   "metadata": {},
   "source": []
  }
 ],
 "metadata": {
  "kernelspec": {
   "display_name": "kipac_physics89L",
   "language": "python",
   "name": "python3"
  },
  "language_info": {
   "codemirror_mode": {
    "name": "ipython",
    "version": 3
   },
   "file_extension": ".py",
   "mimetype": "text/x-python",
   "name": "python",
   "nbconvert_exporter": "python",
   "pygments_lexer": "ipython3",
   "version": "3.11.8"
  }
 },
 "nbformat": 4,
 "nbformat_minor": 2
}
