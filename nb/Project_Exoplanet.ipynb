{
 "cells": [
  {
   "cell_type": "code",
   "execution_count": null,
   "id": "b93fb63d",
   "metadata": {},
   "outputs": [],
   "source": [
    "%matplotlib inline\n",
    "import matplotlib.pyplot as plt\n",
    "import numpy as np\n",
    "import scipy.stats as stats\n",
    "import scipy.optimize as optimize\n",
    "import datetime\n",
    "from scipy.fft import fft, fftfreq"
   ]
  },
  {
   "attachments": {},
   "cell_type": "markdown",
   "id": "865a067a",
   "metadata": {},
   "source": [
    "# Project: searching for exoplanets\n",
    "\n",
    "Recall that in weeks 8 of this course we explored analyzing data in the frequency domain.\n",
    "\n",
    "This technique is quite powerful, and in fact is the basis of how many searches for exoplanets are done.\n",
    "In fact, this was the technique used to discover many of the first exoplanets.\n",
    "\n",
    "This technique is based on the idea that a planet will have a slight effect on its star's orbit.  Recall that in a two body system, the two bodies actually orbit around the center of mass of the combined system.  Even though the star will typically have much more mass that the planet, the center of mass of the combined system will not be exactly at the center of mass of the star.  This will cause the star to \"wobble\".  In technical terms, we say that the radial velocity of the star will vary. \n",
    "\n",
    "<img src=\"figures/Radial-Velocity-Method-star-orbits.png\" width=600>\n",
    "\n",
    "Then astronomers use the spectral techniques we study in the second notebook of week 6 to measure the relative velocity of a star to extremely high precicsion to detect this wobble.  This variation is actually very small, maybe only dozens of $m / s$ for the first exoplanets discovered, and down to $10 cm / s$ for current state of the art telescopes.\n",
    "\n",
    "The thing that allows us to be fully confident that we are seeing a real signal is that the wobble is periodic.  Thus, by doing the analysis in the frequency domain, we can confirm the periodic signature of the wobble. \n",
    "\n",
    "In this project, you will consider the effect that can make it easier or harder to detect a signal.\n",
    "\n",
    "1. The quality of the measurements.  We will smear out the measurements of the radial velocity, thus degrading the signal.\n",
    "\n",
    "2. The number of measurements.  The longer we observe a star for, and the more measurement we take, the more chances we have to confirm the periodic signature in the radial velocity variations.\n",
    "\n",
    "We have provided a few simple functions, including functions to degrade the date, extract the Fourier transform of the data, and quantify both the size of the signal peak and the amount of background in the Fourier transform.\n",
    "\n",
    "Here are some potential goals:\n",
    "\n",
    "1. Run through the four cases in this notebook that demonstrate idealized data, and what happens as it gets degraded.\n",
    "\n",
    "2. Come up with a way to define the significance of the peak in the Fourier transform and decide if it constitues a discovery.\n",
    "\n",
    "3. Explore how the significance changes as we degrade the data, and characterize those changes.\n",
    "\n",
    "4. Come up with a formula to estimate how long we might have to observe to discover an exoplanet if we have a given amount of noise in our measurement of the radial velocity.\n",
    "\n",
    "Fun fact: the idealized data we have are using the period and radial velocity of 51 pegasi b, the first exoplanet ever discovered around a \"normal\" or \"main sequence\" star.\n",
    "\n",
    "https://en.wikipedia.org/wiki/51_Pegasi\n"
   ]
  },
  {
   "cell_type": "markdown",
   "id": "1caef2c2",
   "metadata": {},
   "source": [
    "### Function to plot the $v_{\\rm rad}$ as a function of time."
   ]
  },
  {
   "cell_type": "code",
   "execution_count": null,
   "id": "99ed3c9c",
   "metadata": {},
   "outputs": [],
   "source": [
    "def plot_rvel(date, rvel):\n",
    "    _ = plt.scatter(date, rvel)\n",
    "    _ = plt.xlabel(r'Observation Time [days]')\n",
    "    _ = plt.ylabel(r'$\\Delta v_{\\rm rad} [\\frac{m}{s}]$')"
   ]
  },
  {
   "cell_type": "markdown",
   "id": "7c9182f7",
   "metadata": {},
   "source": [
    "### Function to degrade data by adding noise and / or reducing number of observations"
   ]
  },
  {
   "cell_type": "code",
   "execution_count": null,
   "id": "f067d5f5",
   "metadata": {},
   "outputs": [],
   "source": [
    "def degrade_data(date, rvel, noise_scale=0.01, tfrac=1.):\n",
    "    tmax = tfrac*np.max(date)\n",
    "    mask = date < tmax\n",
    "    return (date[mask], rvel[mask] + stats.norm(loc=0, scale=noise_scale).rvs(size=mask.sum()))"
   ]
  },
  {
   "cell_type": "markdown",
   "id": "b9d98c40",
   "metadata": {},
   "source": [
    "### Function to take the Fourier transform of a time series"
   ]
  },
  {
   "cell_type": "code",
   "execution_count": null,
   "id": "e880b244",
   "metadata": {},
   "outputs": [],
   "source": [
    "def do_fft(date, rvel, plot=True):\n",
    "    # Number of sample points\n",
    "    N = len(date)\n",
    "\n",
    "    # Arbitrary offset in data\n",
    "    offset = np.mean(rvel)\n",
    "\n",
    "    # sample spacing\n",
    "    T = np.mean(date[1:] - date[0:-1])\n",
    "\n",
    "    yf = fft(rvel-offset)\n",
    "    xf = fftfreq(N, T)[:N//2]\n",
    "\n",
    "    if plot:\n",
    "        _ = plt.plot(xf, 2.0/N * np.abs(yf[0:N//2]))    \n",
    "        _ = plt.ylabel(\"Signal at Frequency [a.u.]\")\n",
    "        _ = plt.xlabel(r\"Frequency [${\\rm days}^{-1}$]\")\n",
    "\n",
    "        freq_max = xf[np.argmax(np.abs(yf[0:N//2]))]\n",
    "        period = 1./freq_max\n",
    "\n",
    "        _ = plt.annotate(r\"$f \\sim %0.2f {\\rm days}^{-1}$\" % freq_max, (2.0, 35))\n",
    "        _ = plt.annotate(r\"$P \\sim %0.2f {\\rm days}$\" % period, (2.0, 32))\n",
    "        \n",
    "    return xf, 2.0/N * np.abs(yf[0:N//2])"
   ]
  },
  {
   "cell_type": "markdown",
   "id": "f6079b09",
   "metadata": {},
   "source": [
    "### Function to esimate the peak in the Fourier transform, and also to esimate the noise level"
   ]
  },
  {
   "cell_type": "code",
   "execution_count": null,
   "id": "3c1b8761",
   "metadata": {},
   "outputs": [],
   "source": [
    "def fft_noise_stats(xf, yf):\n",
    "    min_bin = np.searchsorted(xf, 0.5)\n",
    "    other_data = yf[min_bin:]\n",
    "    mean = np.mean(other_data)\n",
    "    std = np.std(other_data)\n",
    "    peak = np.max(yf)\n",
    "    print(\"The mean and standard deviation of the FFT away from the peak is %0.2f %0.2f\" % (mean, std))\n",
    "    print(\"The value at the mean is %.2f\" % peak)"
   ]
  },
  {
   "cell_type": "markdown",
   "id": "e189a6a1",
   "metadata": {},
   "source": [
    "# Case 1: using idealized data\n",
    "\n",
    "This case represents some very idealized measurements.  There is no instrumental error, and we observe the star a few times a day for 40 days.  This results in a very clear and convincing signal."
   ]
  },
  {
   "cell_type": "code",
   "execution_count": null,
   "id": "46028e55",
   "metadata": {},
   "outputs": [],
   "source": [
    "data = np.loadtxt(open(\"../data/51peg_model_rvs.txt\", 'rb'), usecols=range(2))\n",
    "\n",
    "# This is how we pull out the data from columns in the array.\n",
    "date = data[:,0] - np.min(data[:,0])\n",
    "rvel = data[:,1]\n",
    "\n",
    "plot_rvel(date, rvel)"
   ]
  },
  {
   "cell_type": "code",
   "execution_count": null,
   "id": "7f61a024",
   "metadata": {},
   "outputs": [],
   "source": [
    "xf, yf = do_fft(date, rvel)\n",
    "fft_noise_stats(xf, yf)"
   ]
  },
  {
   "cell_type": "markdown",
   "id": "4748692f",
   "metadata": {},
   "source": [
    "# Case 2: shorter observation, but still idealized\n",
    "\n",
    "In this case we still have no measurment error, but we only observed for 20 days.  We still get a very nice clear signal."
   ]
  },
  {
   "cell_type": "code",
   "execution_count": null,
   "id": "bcc38876",
   "metadata": {},
   "outputs": [],
   "source": [
    "less_data = degrade_data(date, rvel, tfrac=0.5)\n",
    "plot_rvel(less_data[0], less_data[1])"
   ]
  },
  {
   "cell_type": "code",
   "execution_count": null,
   "id": "bc75e5f1",
   "metadata": {},
   "outputs": [],
   "source": [
    "xf, yf = do_fft(less_data[0], less_data[1])\n",
    "fft_noise_stats(xf, yf)"
   ]
  },
  {
   "attachments": {},
   "cell_type": "markdown",
   "id": "dde73862",
   "metadata": {},
   "source": [
    "# Case 3, full observation time, but noisy data\n",
    "\n",
    "In this case we have about $100 \\frac{m}{s}$ of noise in the measurements of $v_\\mathrm{rad}$.  Even though we can't really see a signal in the time series, we can see a pretty clear signal in the Fourier transform."
   ]
  },
  {
   "cell_type": "code",
   "execution_count": null,
   "id": "b5a79eb2",
   "metadata": {},
   "outputs": [],
   "source": [
    "noisy_data = degrade_data(date, rvel, noise_scale=100.)\n",
    "plot_rvel(noisy_data[0], noisy_data[1])"
   ]
  },
  {
   "cell_type": "code",
   "execution_count": null,
   "id": "8728575d",
   "metadata": {},
   "outputs": [],
   "source": [
    "xf, yf = do_fft(noisy_data[0], noisy_data[1])\n",
    "fft_noise_stats(xf, yf)"
   ]
  },
  {
   "cell_type": "markdown",
   "id": "b45eef6c",
   "metadata": {},
   "source": [
    "# Case 4, less observation time, and noisy data\n",
    "\n",
    "In this case we have both noise measurement and a shorter observation, and the signal is getting really marginal."
   ]
  },
  {
   "cell_type": "code",
   "execution_count": null,
   "id": "ac3b8f9a",
   "metadata": {},
   "outputs": [],
   "source": [
    "noisy_short_data = degrade_data(date, rvel, noise_scale=100., tfrac=0.5)\n",
    "plot_rvel(noisy_short_data[0], noisy_short_data[1])"
   ]
  },
  {
   "cell_type": "code",
   "execution_count": null,
   "id": "c9240e6d",
   "metadata": {},
   "outputs": [],
   "source": [
    "xf, yf = do_fft(noisy_short_data[0], noisy_short_data[1])\n",
    "fft_noise_stats(xf, yf)"
   ]
  }
 ],
 "metadata": {
  "kernelspec": {
   "display_name": "Python 3 (ipykernel)",
   "language": "python",
   "name": "python3"
  },
  "language_info": {
   "codemirror_mode": {
    "name": "ipython",
    "version": 3
   },
   "file_extension": ".py",
   "mimetype": "text/x-python",
   "name": "python",
   "nbconvert_exporter": "python",
   "pygments_lexer": "ipython3",
   "version": "3.10.1"
  }
 },
 "nbformat": 4,
 "nbformat_minor": 5
}
