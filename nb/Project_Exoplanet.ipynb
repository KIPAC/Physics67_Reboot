{
 "cells": [
  {
   "cell_type": "code",
   "execution_count": null,
   "id": "b93fb63d",
   "metadata": {},
   "outputs": [],
   "source": [
    "%matplotlib inline\n",
    "import matplotlib.pyplot as plt\n",
    "import numpy as np\n",
    "import scipy.stats as stats\n",
    "import scipy.optimize as optimize\n",
    "import datetime\n",
    "from scipy.fft import fft, fftfreq"
   ]
  },
  {
   "attachments": {},
   "cell_type": "markdown",
   "id": "865a067a",
   "metadata": {},
   "source": [
    "# Searching for Exoplanets\n",
    "\n",
    "\n",
    "## Introduction\n",
    "\n",
    "Recall that in week 8 of this course, we explored analyzing data in the frequency domain using Fourier transforms. In this project, you will further explore this concept by applying some of the basic statistical techniques that we covered at the beginning of the course, but now in the frequency domain. Fourier analysis has many applications in physics and astronomy, and in this project, you will investigate its use in the search for exoplanets.\n",
    "\n",
    "There are now many methods for detecting exoplanets, but the first exoplanet discoveries in the late 1980s and early '90s were made using the *radial velocity method*. This technique is based on the fact that the gravitational force from an exoplanet will have a small, but measurable, effect on the motion of the host star. Recall that in a planetary system, both the planet and the star will orbit around the center of mass of the system. Even though the star will typically have much more mass that the planet, the center of mass of the combined system will not be exactly at the center of mass of the star. This will cause the star to \"wobble\".\n",
    "\n",
    "Due to the Doppler effect, this slight wobble will cause small shifts in the spectrum of the host star over time. These radial velocities can be very small -- the first exoplanets discovered had velocities of just a few m/s -- so measurements of the spectrum must be extremely precise. This measurement technique is summarized in the image below.\n",
    "\n",
    "<img src=\"figures/Radial-Velocity-Method-star-orbits.png\" width=600>\n",
    "\n",
    "The key to detecting these extremely small shifts and distinguishing them from background fluctuations is that they will be periodic. This is why Fourier analysis is such a powerful technique for analyzing this type of data. When we look at the data in the time domain, it may not be possible to pick out the periodic signal from the background. When we convert to the frequency domain, however, a small periodic signal can become quite obvious.\n",
    "\n",
    "In this project, you will consider some effects that can make it easier or harder to detect a periodic signal.\n",
    "\n",
    "1. The quality of the measurements. We will study this effect by adding noise to the measurements of radial velocity, thus degrading the signal.\n",
    "\n",
    "2. The number of measurements over time. If we take more measurements over a longer time range, it will be easier to distinguish the periodic signal from background.\n",
    "\n",
    "We have provided a data sample to use in your investigation. This is idealized data, based on radial velocity measurements taken from [51 Pegasi](https://en.wikipedia.org/wiki/51_Pegasi) in 1995, which led to the first discovery of an exoplanet orbiting a Sun-like star. \n",
    "\n",
    "## Potential goals for this project:\n",
    "\n",
    "1. Run through the four cases in this notebook that demonstrate idealized data, and what happens as it gets degraded.\n",
    "\n",
    "2. Come up with a way to define the significance of the peak in the Fourier transform and decide whether it constitues a discovery.\n",
    "\n",
    "3. Explore how the significance changes as we degrade the data, and characterize those changes.\n",
    "\n",
    "4. Study how the level of noise affects the amount of time we will need to observe a star in order to make a discovery. \n",
    "\n",
    "We have provided a few simple functions, including functions to degrade the data, extract the Fourier transform of the data, and quantify both the size of the signal peak and the amount of background in the Fourier transform."
   ]
  },
  {
   "cell_type": "markdown",
   "id": "6745b5fb",
   "metadata": {},
   "source": [
    "## Useful functions"
   ]
  },
  {
   "attachments": {},
   "cell_type": "markdown",
   "id": "1caef2c2",
   "metadata": {},
   "source": [
    "### Plot the radial velocity as a function of time"
   ]
  },
  {
   "cell_type": "code",
   "execution_count": null,
   "id": "99ed3c9c",
   "metadata": {},
   "outputs": [],
   "source": [
    "def plot_rvel(date, rvel):\n",
    "    plt.scatter(date, rvel)\n",
    "    plt.xlabel(r'Observation Time [days]')\n",
    "    plt.ylabel(r'$\\Delta v_{\\rm rad} [\\frac{m}{s}]$')"
   ]
  },
  {
   "attachments": {},
   "cell_type": "markdown",
   "id": "7c9182f7",
   "metadata": {},
   "source": [
    "### Degrade data by adding noise and/or reducing number of observations\n",
    "\n",
    "This function allows you to:\n",
    "- Add random noise to the radial velocity signal, drawn from a Gaussian distribution with $\\sigma = $ `noise_scale`\n",
    "- Reduce the time range of the measurements by a factor of `tfrac`, where $ 0 \\leq $ `tfrac` $ \\leq 1$"
   ]
  },
  {
   "cell_type": "code",
   "execution_count": null,
   "id": "f067d5f5",
   "metadata": {},
   "outputs": [],
   "source": [
    "rng = np.random.default_rng()\n",
    "\n",
    "def degrade_data(date, rvel, noise_scale=0.01, tfrac=1.):\n",
    "    tmax = tfrac*np.max(date)\n",
    "    mask = date < tmax\n",
    "    return (date[mask], rvel[mask] + rng.normal(loc=0, scale=noise_scale, size=mask.sum()))"
   ]
  },
  {
   "attachments": {},
   "cell_type": "markdown",
   "id": "b9d98c40",
   "metadata": {},
   "source": [
    "### Take the Fourier transform of a time series\n",
    "\n",
    "This FFT (fast Fourier transform) function returns `xf, yf` where `xf` and `yf` are the frequency and amplitude of the transformed data, respectively. `xf` has units of days $^{-1}$ and `yf` is in arbitrary units."
   ]
  },
  {
   "cell_type": "code",
   "execution_count": null,
   "id": "e880b244",
   "metadata": {},
   "outputs": [],
   "source": [
    "def do_fft(date, rvel, plot=True):\n",
    "    # Number of sample points\n",
    "    N = len(date)\n",
    "\n",
    "    # Arbitrary offset in data\n",
    "    offset = np.mean(rvel)\n",
    "\n",
    "    # sample spacing\n",
    "    T = np.mean(date[1:] - date[0:-1])\n",
    "\n",
    "    yf = fft(rvel-offset)\n",
    "    xf = fftfreq(N, T)[:N//2]\n",
    "\n",
    "    if plot:\n",
    "        plt.plot(xf, 2.0/N * np.abs(yf[0:N//2]))    \n",
    "        plt.ylabel(\"Signal [arbitrary units]\")\n",
    "        plt.xlabel(r\"Frequency [${\\rm days}^{-1}$]\")\n",
    "\n",
    "        freq_max = xf[np.argmax(np.abs(yf[0:N//2]))]\n",
    "        period = 1./freq_max\n",
    "\n",
    "        plt.annotate(r\"$f \\sim %0.2f {\\rm days}^{-1}$\" % freq_max, (2.0, 35))\n",
    "        plt.annotate(r\"$P \\sim %0.2f {\\rm days}$\" % period, (2.0, 32))\n",
    "        \n",
    "    return xf, 2.0/N * np.abs(yf[0:N//2])"
   ]
  },
  {
   "attachments": {},
   "cell_type": "markdown",
   "id": "f6079b09",
   "metadata": {},
   "source": [
    "### Characterize the peak and noise level in the FFT\n",
    "\n",
    "This function returns a dictionary containing statistical information about the transformed data."
   ]
  },
  {
   "cell_type": "code",
   "execution_count": null,
   "id": "3c1b8761",
   "metadata": {},
   "outputs": [],
   "source": [
    "def fft_noise_stats(xf, yf, verbose=False):\n",
    "    result = {}\n",
    "    result[\"peak_height\"] = np.max(yf)\n",
    "    result[\"peak_freq\"] = xf[np.argmax(yf)]\n",
    "    min_bin = np.searchsorted(xf, 0.5)\n",
    "    other_data = yf[min_bin:]\n",
    "    result[\"mean\"] = np.mean(other_data)\n",
    "    result[\"std\"] = np.std(other_data)\n",
    "    if verbose:\n",
    "        print(\"The peak height is {peak_height:.2f} at frequency {peak_freq:.2f} day^-1\".format(**result))\n",
    "        print(\"Away from the peak, the mean amplitude is {mean:.2f} and the standard deviation is {std:.2f}\".format(**result))\n",
    "    return result"
   ]
  },
  {
   "cell_type": "markdown",
   "id": "e189a6a1",
   "metadata": {},
   "source": [
    "# Case 1: using idealized data\n",
    "\n",
    "This case represents some very idealized measurements.  There is no instrumental error, and we observe the star a few times a day for 40 days.  This results in a very clear and convincing signal."
   ]
  },
  {
   "cell_type": "code",
   "execution_count": null,
   "id": "46028e55",
   "metadata": {},
   "outputs": [],
   "source": [
    "data = np.loadtxt(open(\"../data/51peg_model_rvs.txt\", 'rb'), usecols=range(2))\n",
    "\n",
    "# This is how we pull out the data from columns in the array.\n",
    "date = data[:,0] - np.min(data[:,0])\n",
    "rvel = data[:,1]\n",
    "\n",
    "plot_rvel(date, rvel)"
   ]
  },
  {
   "cell_type": "code",
   "execution_count": null,
   "id": "7f61a024",
   "metadata": {},
   "outputs": [],
   "source": [
    "xf, yf = do_fft(date, rvel)\n",
    "fft_noise_stats(xf, yf, True)"
   ]
  },
  {
   "cell_type": "markdown",
   "id": "4748692f",
   "metadata": {},
   "source": [
    "# Case 2: shorter observation, but still idealized\n",
    "\n",
    "In this case we still have no measurment error, but we only observed for 20 days.  We still get a very nice clear signal."
   ]
  },
  {
   "cell_type": "code",
   "execution_count": null,
   "id": "bcc38876",
   "metadata": {},
   "outputs": [],
   "source": [
    "less_data = degrade_data(date, rvel, tfrac=0.5)\n",
    "plot_rvel(less_data[0], less_data[1])"
   ]
  },
  {
   "cell_type": "code",
   "execution_count": null,
   "id": "bc75e5f1",
   "metadata": {},
   "outputs": [],
   "source": [
    "xf, yf = do_fft(less_data[0], less_data[1])\n",
    "fft_noise_stats(xf, yf)"
   ]
  },
  {
   "attachments": {},
   "cell_type": "markdown",
   "id": "dde73862",
   "metadata": {},
   "source": [
    "# Case 3, full observation time, but noisy data\n",
    "\n",
    "In this case we have about $100 \\frac{m}{s}$ of noise in the measurements of $v_\\mathrm{rad}$.  Even though we can't really see a signal in the time series, we can see a pretty clear signal in the Fourier transform."
   ]
  },
  {
   "cell_type": "code",
   "execution_count": null,
   "id": "b5a79eb2",
   "metadata": {},
   "outputs": [],
   "source": [
    "noisy_data = degrade_data(date, rvel, noise_scale=100.)\n",
    "plot_rvel(noisy_data[0], noisy_data[1])"
   ]
  },
  {
   "cell_type": "code",
   "execution_count": null,
   "id": "8728575d",
   "metadata": {},
   "outputs": [],
   "source": [
    "xf, yf = do_fft(noisy_data[0], noisy_data[1])\n",
    "fft_noise_stats(xf, yf)"
   ]
  },
  {
   "cell_type": "markdown",
   "id": "b45eef6c",
   "metadata": {},
   "source": [
    "# Case 4, less observation time, and noisy data\n",
    "\n",
    "In this case we have both noise measurement and a shorter observation, and the signal is getting really marginal."
   ]
  },
  {
   "cell_type": "code",
   "execution_count": null,
   "id": "ac3b8f9a",
   "metadata": {},
   "outputs": [],
   "source": [
    "noisy_short_data = degrade_data(date, rvel, noise_scale=100., tfrac=0.5)\n",
    "plot_rvel(noisy_short_data[0], noisy_short_data[1])"
   ]
  },
  {
   "cell_type": "code",
   "execution_count": null,
   "id": "c9240e6d",
   "metadata": {},
   "outputs": [],
   "source": [
    "xf, yf = do_fft(noisy_short_data[0], noisy_short_data[1])\n",
    "fft_noise_stats(xf, yf)"
   ]
  }
 ],
 "metadata": {
  "kernelspec": {
   "display_name": "Python 3 (ipykernel)",
   "language": "python",
   "name": "python3"
  },
  "language_info": {
   "codemirror_mode": {
    "name": "ipython",
    "version": 3
   },
   "file_extension": ".py",
   "mimetype": "text/x-python",
   "name": "python",
   "nbconvert_exporter": "python",
   "pygments_lexer": "ipython3",
   "version": "3.11.3"
  }
 },
 "nbformat": 4,
 "nbformat_minor": 5
}
